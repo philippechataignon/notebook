{
 "metadata": {
  "name": "",
  "signature": "sha256:83f324774dca8e5f13952949d314fd2dd18dac0025cf4750ff895da07d035e1b"
 },
 "nbformat": 3,
 "nbformat_minor": 0,
 "worksheets": [
  {
   "cells": [
    {
     "cell_type": "code",
     "collapsed": false,
     "input": [
      "df_in = pd.read_csv('download/euro2014.csv.gz', compression='gzip', delimiter=',', low_memory=False)"
     ],
     "language": "python",
     "metadata": {},
     "outputs": [],
     "prompt_number": 1
    },
    {
     "cell_type": "code",
     "collapsed": false,
     "input": [
      "keep = [\n",
      "    'CodeInsee',\n",
      "    'Inscrits',\n",
      "    'Abstentions',\n",
      "    'Votants',\n",
      "    'Blancs',\n",
      "    'Nuls',\n",
      "    'Exprim\u00e9s',\n",
      "    'LEXG',\n",
      "    'LUG',\n",
      "    'LFG',\n",
      "    'LDVG',\n",
      "    'LVEC',\n",
      "    'LDIV',\n",
      "    'LUC',\n",
      "    'LUMP',\n",
      "    'LDVD',\n",
      "    'LFN',\n",
      "    'LEXD',\n",
      "    'NbCand',\n",
      "]\n",
      "\n",
      "df_out = df_in[keep]\n",
      "# df_out['dc'] = df_out.CodeInsee.str.encode('ascii')\n",
      "# df_out.drop(['CodeInsee'], axis=1, inplace=True)"
     ],
     "language": "python",
     "metadata": {},
     "outputs": [],
     "prompt_number": 2
    },
    {
     "cell_type": "code",
     "collapsed": false,
     "input": [
      "df_out.set_index('CodeInsee', inplace=True)\n",
      "df_out.index.name = 'dc'\n",
      "df_out.index.get_duplicates()"
     ],
     "language": "python",
     "metadata": {},
     "outputs": [
      {
       "metadata": {},
       "output_type": "pyout",
       "prompt_number": 3,
       "text": [
        "[]"
       ]
      }
     ],
     "prompt_number": 3
    },
    {
     "cell_type": "code",
     "collapsed": false,
     "input": [
      "df_out.index"
     ],
     "language": "python",
     "metadata": {},
     "outputs": [
      {
       "metadata": {},
       "output_type": "pyout",
       "prompt_number": 4,
       "text": [
        "Index([u'01001', u'01002', u'01004', u'01005', u'01006', u'01007', u'01008', u'01009', u'01010', u'01011', u'01012', u'01013', u'01014', u'01015', u'01016', u'01017', u'01019', u'01021', u'01022', u'01023', u'01024', u'01025', u'01026', u'01027', u'01028', u'01029', u'01030', u'01031', u'01032', u'01033', u'01034', u'01035', u'01036', u'01037', u'01038', u'01039', u'01040', u'01041', u'01042', u'01043', u'01044', u'01045', u'01046', u'01047', u'01049', u'01050', u'01051', u'01052', u'01053', u'01054', u'01056', u'01057', u'01058', u'01059', u'01060', u'01061', u'01062', u'01063', u'01064', u'01065', u'01066', u'01067', u'01068', u'01069', u'01071', u'01072', u'01073', u'01074', u'01075', u'01076', u'01077', u'01078', u'01079', u'01080', u'01081', u'01082', u'01083', u'01084', u'01085', u'01087', u'01088', u'01089', u'01090', u'01091', u'01092', u'01093', u'01094', u'01095', u'01096', u'01097', u'01098', u'01099', u'01100', u'01101', u'01102', u'01103', u'01104', u'01105', u'01106', u'01107', ...], dtype='object')"
       ]
      }
     ],
     "prompt_number": 4
    },
    {
     "cell_type": "code",
     "collapsed": false,
     "input": [
      "df_out.columns"
     ],
     "language": "python",
     "metadata": {},
     "outputs": [
      {
       "metadata": {},
       "output_type": "pyout",
       "prompt_number": 5,
       "text": [
        "Index([u'Inscrits', u'Abstentions', u'Votants', u'Blancs', u'Nuls', u'Exprim\u00e9s', u'LEXG', u'LUG', u'LFG', u'LDVG', u'LVEC', u'LDIV', u'LUC', u'LUMP', u'LDVD', u'LFN', u'LEXD', u'NbCand'], dtype='object')"
       ]
      }
     ],
     "prompt_number": 5
    },
    {
     "cell_type": "code",
     "collapsed": false,
     "input": [
      "df_out.tail()"
     ],
     "language": "python",
     "metadata": {},
     "outputs": [
      {
       "html": [
        "<div style=\"max-height:1000px;max-width:1500px;overflow:auto;\">\n",
        "<table border=\"1\" class=\"dataframe\">\n",
        "  <thead>\n",
        "    <tr style=\"text-align: right;\">\n",
        "      <th></th>\n",
        "      <th>Inscrits</th>\n",
        "      <th>Abstentions</th>\n",
        "      <th>Votants</th>\n",
        "      <th>Blancs</th>\n",
        "      <th>Nuls</th>\n",
        "      <th>Exprim\u00e9s</th>\n",
        "      <th>LEXG</th>\n",
        "      <th>LUG</th>\n",
        "      <th>LFG</th>\n",
        "      <th>LDVG</th>\n",
        "      <th>LVEC</th>\n",
        "      <th>LDIV</th>\n",
        "      <th>LUC</th>\n",
        "      <th>LUMP</th>\n",
        "      <th>LDVD</th>\n",
        "      <th>LFN</th>\n",
        "      <th>LEXD</th>\n",
        "      <th>NbCand</th>\n",
        "    </tr>\n",
        "    <tr>\n",
        "      <th>dc</th>\n",
        "      <th></th>\n",
        "      <th></th>\n",
        "      <th></th>\n",
        "      <th></th>\n",
        "      <th></th>\n",
        "      <th></th>\n",
        "      <th></th>\n",
        "      <th></th>\n",
        "      <th></th>\n",
        "      <th></th>\n",
        "      <th></th>\n",
        "      <th></th>\n",
        "      <th></th>\n",
        "      <th></th>\n",
        "      <th></th>\n",
        "      <th></th>\n",
        "      <th></th>\n",
        "      <th></th>\n",
        "    </tr>\n",
        "  </thead>\n",
        "  <tbody>\n",
        "    <tr>\n",
        "      <th>ZS501</th>\n",
        "      <td>   496</td>\n",
        "      <td>   393</td>\n",
        "      <td>  103</td>\n",
        "      <td>   7</td>\n",
        "      <td>   0</td>\n",
        "      <td>   96</td>\n",
        "      <td>  4</td>\n",
        "      <td>   21</td>\n",
        "      <td> 0</td>\n",
        "      <td>    5</td>\n",
        "      <td>  0</td>\n",
        "      <td> 0</td>\n",
        "      <td>  13</td>\n",
        "      <td>   38</td>\n",
        "      <td> 0</td>\n",
        "      <td>  15</td>\n",
        "      <td> 0</td>\n",
        "      <td> 19</td>\n",
        "    </tr>\n",
        "    <tr>\n",
        "      <th>ZS502</th>\n",
        "      <td>  4449</td>\n",
        "      <td>  3701</td>\n",
        "      <td>  748</td>\n",
        "      <td>  48</td>\n",
        "      <td>  22</td>\n",
        "      <td>  678</td>\n",
        "      <td> 33</td>\n",
        "      <td>  210</td>\n",
        "      <td> 0</td>\n",
        "      <td>   23</td>\n",
        "      <td>  0</td>\n",
        "      <td> 0</td>\n",
        "      <td>  94</td>\n",
        "      <td>  190</td>\n",
        "      <td> 0</td>\n",
        "      <td> 105</td>\n",
        "      <td> 0</td>\n",
        "      <td> 19</td>\n",
        "    </tr>\n",
        "    <tr>\n",
        "      <th>ZW001</th>\n",
        "      <td>  9333</td>\n",
        "      <td>  4774</td>\n",
        "      <td> 4559</td>\n",
        "      <td>  33</td>\n",
        "      <td>  30</td>\n",
        "      <td> 4496</td>\n",
        "      <td> 53</td>\n",
        "      <td> 1282</td>\n",
        "      <td> 0</td>\n",
        "      <td> 1077</td>\n",
        "      <td>  0</td>\n",
        "      <td> 0</td>\n",
        "      <td> 308</td>\n",
        "      <td> 1568</td>\n",
        "      <td> 0</td>\n",
        "      <td>  91</td>\n",
        "      <td> 0</td>\n",
        "      <td> 19</td>\n",
        "    </tr>\n",
        "    <tr>\n",
        "      <th>ZX701</th>\n",
        "      <td>  4874</td>\n",
        "      <td>  4147</td>\n",
        "      <td>  727</td>\n",
        "      <td>  22</td>\n",
        "      <td>   4</td>\n",
        "      <td>  701</td>\n",
        "      <td>  3</td>\n",
        "      <td>   28</td>\n",
        "      <td> 0</td>\n",
        "      <td>   11</td>\n",
        "      <td> 27</td>\n",
        "      <td> 0</td>\n",
        "      <td>  53</td>\n",
        "      <td>  305</td>\n",
        "      <td> 0</td>\n",
        "      <td> 222</td>\n",
        "      <td> 0</td>\n",
        "      <td> 19</td>\n",
        "    </tr>\n",
        "    <tr>\n",
        "      <th>ZX801</th>\n",
        "      <td> 18389</td>\n",
        "      <td> 16429</td>\n",
        "      <td> 1960</td>\n",
        "      <td> 158</td>\n",
        "      <td> 107</td>\n",
        "      <td> 1695</td>\n",
        "      <td> 82</td>\n",
        "      <td>  257</td>\n",
        "      <td> 0</td>\n",
        "      <td>  104</td>\n",
        "      <td>  0</td>\n",
        "      <td> 0</td>\n",
        "      <td>  93</td>\n",
        "      <td>  640</td>\n",
        "      <td> 0</td>\n",
        "      <td> 287</td>\n",
        "      <td> 0</td>\n",
        "      <td> 19</td>\n",
        "    </tr>\n",
        "  </tbody>\n",
        "</table>\n",
        "</div>"
       ],
       "metadata": {},
       "output_type": "pyout",
       "prompt_number": 6,
       "text": [
        "       Inscrits  Abstentions  Votants  Blancs  Nuls  Exprim\u00e9s  LEXG   LUG  \\\n",
        "dc                                                                          \n",
        "ZS501       496          393      103       7     0        96     4    21   \n",
        "ZS502      4449         3701      748      48    22       678    33   210   \n",
        "ZW001      9333         4774     4559      33    30      4496    53  1282   \n",
        "ZX701      4874         4147      727      22     4       701     3    28   \n",
        "ZX801     18389        16429     1960     158   107      1695    82   257   \n",
        "\n",
        "       LFG  LDVG  LVEC  LDIV  LUC  LUMP  LDVD  LFN  LEXD  NbCand  \n",
        "dc                                                                \n",
        "ZS501    0     5     0     0   13    38     0   15     0      19  \n",
        "ZS502    0    23     0     0   94   190     0  105     0      19  \n",
        "ZW001    0  1077     0     0  308  1568     0   91     0      19  \n",
        "ZX701    0    11    27     0   53   305     0  222     0      19  \n",
        "ZX801    0   104     0     0   93   640     0  287     0      19  "
       ]
      }
     ],
     "prompt_number": 6
    },
    {
     "cell_type": "code",
     "collapsed": false,
     "input": [
      "df_out.to_csv('data/euro2014.tsv', delimiter='\\t')"
     ],
     "language": "python",
     "metadata": {},
     "outputs": [],
     "prompt_number": 7
    },
    {
     "cell_type": "code",
     "collapsed": false,
     "input": [
      "#st = pd.HDFStore('data/data.h5')\n",
      "#del st['euro2014']\n",
      "#st['euro2014'] = df_out\n",
      "# st.append('euro2014',df_out)\n",
      "#st.close()"
     ],
     "language": "python",
     "metadata": {},
     "outputs": [],
     "prompt_number": 8
    },
    {
     "cell_type": "code",
     "collapsed": false,
     "input": [
      "df_out.to_hdf('data/data.h5','euro2014', format='f')"
     ],
     "language": "python",
     "metadata": {},
     "outputs": [],
     "prompt_number": 9
    }
   ],
   "metadata": {}
  }
 ]
}