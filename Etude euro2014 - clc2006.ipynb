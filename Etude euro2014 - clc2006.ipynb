{
 "metadata": {
  "name": "",
  "signature": "sha256:30f757766b7a4ca17d81d5fd9070808e8052b28114246cb272701e8d324b2a99"
 },
 "nbformat": 3,
 "nbformat_minor": 0,
 "worksheets": [
  {
   "cells": [
    {
     "cell_type": "code",
     "collapsed": false,
     "input": [
      "st = pd.HDFStore('data/data.h5')\n",
      "dc_clc = set(st.clc2006.index)\n",
      "dc_euro = set(st.euro2014.index)\n",
      "dc_ref = set(st.cog2014.index)"
     ],
     "language": "python",
     "metadata": {},
     "outputs": [],
     "prompt_number": 1
    },
    {
     "cell_type": "heading",
     "level": 2,
     "metadata": {},
     "source": [
      "V\u00e9rification code commune"
     ]
    },
    {
     "cell_type": "markdown",
     "metadata": {},
     "source": [
      "Toutes les communes issues de *Corine Land Cover* sont dans le *code officiel g\u00e9ographique*."
     ]
    },
    {
     "cell_type": "code",
     "collapsed": false,
     "input": [
      "dc_clc - dc_ref"
     ],
     "language": "python",
     "metadata": {},
     "outputs": [
      {
       "metadata": {},
       "output_type": "pyout",
       "prompt_number": 2,
       "text": [
        "set()"
       ]
      }
     ],
     "prompt_number": 2
    },
    {
     "cell_type": "markdown",
     "metadata": {},
     "source": [
      "Toutes les communes issues des r\u00e9sulats \u00e9lectoraux ne sont pas dans le *code officiel g\u00e9ographique*. Toutefois, on peut v\u00e9rifier qu'il ne s'agit que des circonscriptions des fran\u00e7ais de l'\u00e9tranger."
     ]
    },
    {
     "cell_type": "code",
     "collapsed": false,
     "input": [
      "\" \".join(sorted(dc_euro - dc_ref))"
     ],
     "language": "python",
     "metadata": {},
     "outputs": [
      {
       "metadata": {},
       "output_type": "pyout",
       "prompt_number": 3,
       "text": [
        "'ZA101 ZA102 ZA103 ZA104 ZA105 ZA106 ZA107 ZA108 ZA109 ZA110 ZA111 ZA112 ZA113 ZA114 ZA115 ZA116 ZA117 ZA118 ZA119 ZA120 ZA121 ZA122 ZA124 ZA125 ZA126 ZA128 ZA129 ZA130 ZA131 ZA132 ZA133 ZA134 ZB201 ZB202 ZB203 ZB204 ZB205 ZB206 ZB207 ZB208 ZB209 ZB210 ZB211 ZB212 ZB213 ZB214 ZB215 ZB216 ZB217 ZB218 ZB219 ZB220 ZB221 ZB222 ZB223 ZB224 ZB225 ZB226 ZB227 ZB228 ZB229 ZB230 ZB231 ZB232 ZB233 ZB234 ZC301 ZC302 ZC303 ZC304 ZC305 ZC306 ZC307 ZC308 ZC309 ZC310 ZC311 ZC312 ZC313 ZC314 ZC352 ZC353 ZC356 ZC357 ZC358 ZC360 ZC361 ZC362 ZD401 ZD402 ZD403 ZD404 ZD405 ZD406 ZD407 ZD408 ZD409 ZD410 ZD411 ZD412 ZD413 ZD414 ZD415 ZD416 ZD417 ZD418 ZD419 ZD420 ZD421 ZD422 ZD423 ZD424 ZM501 ZM502 ZM503 ZM504 ZM505 ZM506 ZM507 ZM508 ZM509 ZM510 ZM511 ZM512 ZM513 ZM514 ZM515 ZM516 ZM517 ZN801 ZN802 ZN803 ZN804 ZN805 ZN806 ZN807 ZN808 ZN809 ZN810 ZN811 ZN812 ZN813 ZN814 ZN815 ZN816 ZN817 ZN818 ZN819 ZN820 ZN821 ZN822 ZN823 ZN824 ZN825 ZN826 ZN827 ZN828 ZN829 ZN830 ZN831 ZN832 ZN833 ZP011 ZP012 ZP013 ZP014 ZP015 ZP016 ZP017 ZP018 ZP019 ZP020 ZP021 ZP022 ZP023 ZP024 ZP025 ZP026 ZP027 ZP028 ZP029 ZP030 ZP031 ZP032 ZP033 ZP034 ZP035 ZP036 ZP037 ZP038 ZP039 ZP040 ZP041 ZP042 ZP043 ZP044 ZP045 ZP046 ZP047 ZP048 ZP049 ZP050 ZP051 ZP052 ZP053 ZP054 ZP055 ZP056 ZP057 ZP058 ZS501 ZS502 ZW001 ZX701 ZX801'"
       ]
      }
     ],
     "prompt_number": 3
    },
    {
     "cell_type": "heading",
     "level": 2,
     "metadata": {},
     "source": [
      "Nettoyage code commune"
     ]
    },
    {
     "cell_type": "markdown",
     "metadata": {},
     "source": [
      "La gestion de la g\u00e9ographie adminstrative est toujours un probl\u00e8me \u00e0 r\u00e8gler lorsqu'on travaille avec plusieurs sources. Ici, on part du fichier historique des communes disponible sur le site de l'INSEE, qui fournit pour chaque commune non active son *p\u00f4le*, par exemple la commune vers laquelle elle a fusionn\u00e9e. Pur les communes actives, et contrairement \u00e0 ce que fait l'INSEE, on a repris le code de la commune dans le p\u00f4le, ce qui fait que l'on peut syst\u00e9matiquement utiliser le passage code commune vers p\u00f4le pour ramener les informations sur une g\u00e9ographie actuelle.\n",
      "\n",
      "Pour chaque table de donn\u00e9es, dans un permier temps, on r\u00e9cup\u00e8re l'information sur le p\u00f4le dans les tables de donn\u00e9e en faisant une jointure. Puis on supprime les lignes o\u00f9 *pole* est \u00e0 *null*. Ensuite, *pole* devient le nouvel index du DataFrame. On peut v\u00e9rifier qu'il n'est pas unique et on le rend unique en sommant toutes les variables."
     ]
    },
    {
     "cell_type": "code",
     "collapsed": false,
     "input": [
      "p = st.cog2014.pole\n",
      "euro2014 = st.euro2014.join(p)\n",
      "euro2014.dropna(subset=['pole'], inplace=True)\n",
      "euro2014.set_index('pole', inplace=True)\n",
      "euro2014.index.is_unique\n",
      "euro = euro2014.groupby(euro2014.index).sum()"
     ],
     "language": "python",
     "metadata": {},
     "outputs": [],
     "prompt_number": 4
    },
    {
     "cell_type": "code",
     "collapsed": false,
     "input": [
      "clc2006 = st.clc2006.join(p)\n",
      "clc2006.dropna(subset=['pole'], inplace=True)\n",
      "clc2006.set_index('pole',inplace=True)\n",
      "clc2006.index.is_unique\n",
      "clc = clc2006.groupby(clc2006.index).sum()"
     ],
     "language": "python",
     "metadata": {},
     "outputs": [],
     "prompt_number": 5
    },
    {
     "cell_type": "heading",
     "level": 2,
     "metadata": {},
     "source": [
      "Jointure des tables de donn\u00e9es"
     ]
    },
    {
     "cell_type": "markdown",
     "metadata": {},
     "source": [
      "Maintenant que la g\u00e9ographie a \u00e9t\u00e9 trait\u00e9e, on peut rapprocher les donn\u00e9es par code commune (en fait pole). On nettoie les lignes avec dans valeurs manquantes."
     ]
    },
    {
     "cell_type": "code",
     "collapsed": false,
     "input": [
      "w = euro.join(clc)\n",
      "w.dropna(inplace=True)\n",
      "w.head()\n",
      "# w.to_csv('data/etude_clc_euro.tsv', delimiter='\\t')"
     ],
     "language": "python",
     "metadata": {},
     "outputs": [
      {
       "output_type": "stream",
       "stream": "stderr",
       "text": [
        "/home/philippe/anaconda/lib/python2.7/site-packages/pandas/core/index.py:1296: UnicodeWarning: Unicode equal comparison failed to convert both arguments to Unicode - interpreting them as being unequal\n",
        "  indexer = self._engine.get_indexer(target.values)\n",
        "/home/philippe/anaconda/lib/python2.7/site-packages/pandas/core/index.py:702: UnicodeWarning: Unicode equal comparison failed to convert both arguments to Unicode - interpreting them as being unequal\n",
        "  return key in self._engine\n"
       ]
      },
      {
       "html": [
        "<div style=\"max-height:1000px;max-width:1500px;overflow:auto;\">\n",
        "<table border=\"1\" class=\"dataframe\">\n",
        "  <thead>\n",
        "    <tr style=\"text-align: right;\">\n",
        "      <th></th>\n",
        "      <th>Inscrits</th>\n",
        "      <th>Abstentions</th>\n",
        "      <th>Votants</th>\n",
        "      <th>Blancs</th>\n",
        "      <th>Nuls</th>\n",
        "      <th>Exprim\u00e9s</th>\n",
        "      <th>LEXG</th>\n",
        "      <th>LUG</th>\n",
        "      <th>LFG</th>\n",
        "      <th>LDVG</th>\n",
        "      <th>...</th>\n",
        "      <th>411</th>\n",
        "      <th>412</th>\n",
        "      <th>421</th>\n",
        "      <th>422</th>\n",
        "      <th>423</th>\n",
        "      <th>511</th>\n",
        "      <th>512</th>\n",
        "      <th>521</th>\n",
        "      <th>522</th>\n",
        "      <th>523</th>\n",
        "    </tr>\n",
        "    <tr>\n",
        "      <th>pole</th>\n",
        "      <th></th>\n",
        "      <th></th>\n",
        "      <th></th>\n",
        "      <th></th>\n",
        "      <th></th>\n",
        "      <th></th>\n",
        "      <th></th>\n",
        "      <th></th>\n",
        "      <th></th>\n",
        "      <th></th>\n",
        "      <th></th>\n",
        "      <th></th>\n",
        "      <th></th>\n",
        "      <th></th>\n",
        "      <th></th>\n",
        "      <th></th>\n",
        "      <th></th>\n",
        "      <th></th>\n",
        "      <th></th>\n",
        "      <th></th>\n",
        "      <th></th>\n",
        "    </tr>\n",
        "  </thead>\n",
        "  <tbody>\n",
        "    <tr>\n",
        "      <th>01001</th>\n",
        "      <td>  593</td>\n",
        "      <td>  312</td>\n",
        "      <td>  281</td>\n",
        "      <td> 17</td>\n",
        "      <td>  2</td>\n",
        "      <td>  262</td>\n",
        "      <td>  0</td>\n",
        "      <td>  37</td>\n",
        "      <td>   4</td>\n",
        "      <td>  8</td>\n",
        "      <td>...</td>\n",
        "      <td> 0</td>\n",
        "      <td> 0</td>\n",
        "      <td> 0</td>\n",
        "      <td> 0</td>\n",
        "      <td> 0</td>\n",
        "      <td> 0</td>\n",
        "      <td>   0.000000</td>\n",
        "      <td> 0</td>\n",
        "      <td> 0</td>\n",
        "      <td> 0</td>\n",
        "    </tr>\n",
        "    <tr>\n",
        "      <th>01002</th>\n",
        "      <td>  226</td>\n",
        "      <td>   99</td>\n",
        "      <td>  127</td>\n",
        "      <td>  2</td>\n",
        "      <td>  1</td>\n",
        "      <td>  124</td>\n",
        "      <td>  0</td>\n",
        "      <td>   6</td>\n",
        "      <td>   9</td>\n",
        "      <td>  4</td>\n",
        "      <td>...</td>\n",
        "      <td> 0</td>\n",
        "      <td> 0</td>\n",
        "      <td> 0</td>\n",
        "      <td> 0</td>\n",
        "      <td> 0</td>\n",
        "      <td> 0</td>\n",
        "      <td>   0.000000</td>\n",
        "      <td> 0</td>\n",
        "      <td> 0</td>\n",
        "      <td> 0</td>\n",
        "    </tr>\n",
        "    <tr>\n",
        "      <th>01004</th>\n",
        "      <td> 8153</td>\n",
        "      <td> 4825</td>\n",
        "      <td> 3328</td>\n",
        "      <td> 76</td>\n",
        "      <td> 30</td>\n",
        "      <td> 3222</td>\n",
        "      <td> 30</td>\n",
        "      <td> 433</td>\n",
        "      <td> 197</td>\n",
        "      <td> 98</td>\n",
        "      <td>...</td>\n",
        "      <td> 0</td>\n",
        "      <td> 0</td>\n",
        "      <td> 0</td>\n",
        "      <td> 0</td>\n",
        "      <td> 0</td>\n",
        "      <td> 0</td>\n",
        "      <td>   0.000000</td>\n",
        "      <td> 0</td>\n",
        "      <td> 0</td>\n",
        "      <td> 0</td>\n",
        "    </tr>\n",
        "    <tr>\n",
        "      <th>01005</th>\n",
        "      <td> 1158</td>\n",
        "      <td>  669</td>\n",
        "      <td>  489</td>\n",
        "      <td> 20</td>\n",
        "      <td>  2</td>\n",
        "      <td>  467</td>\n",
        "      <td>  0</td>\n",
        "      <td>  51</td>\n",
        "      <td>   9</td>\n",
        "      <td> 16</td>\n",
        "      <td>...</td>\n",
        "      <td> 0</td>\n",
        "      <td> 0</td>\n",
        "      <td> 0</td>\n",
        "      <td> 0</td>\n",
        "      <td> 0</td>\n",
        "      <td> 0</td>\n",
        "      <td> 184.330686</td>\n",
        "      <td> 0</td>\n",
        "      <td> 0</td>\n",
        "      <td> 0</td>\n",
        "    </tr>\n",
        "    <tr>\n",
        "      <th>01006</th>\n",
        "      <td>  108</td>\n",
        "      <td>   55</td>\n",
        "      <td>   53</td>\n",
        "      <td>  1</td>\n",
        "      <td>  0</td>\n",
        "      <td>   52</td>\n",
        "      <td>  0</td>\n",
        "      <td>  10</td>\n",
        "      <td>   1</td>\n",
        "      <td>  2</td>\n",
        "      <td>...</td>\n",
        "      <td> 0</td>\n",
        "      <td> 0</td>\n",
        "      <td> 0</td>\n",
        "      <td> 0</td>\n",
        "      <td> 0</td>\n",
        "      <td> 0</td>\n",
        "      <td>   0.000000</td>\n",
        "      <td> 0</td>\n",
        "      <td> 0</td>\n",
        "      <td> 0</td>\n",
        "    </tr>\n",
        "  </tbody>\n",
        "</table>\n",
        "<p>5 rows \u00d7 62 columns</p>\n",
        "</div>"
       ],
       "metadata": {},
       "output_type": "pyout",
       "prompt_number": 6,
       "text": [
        "       Inscrits  Abstentions  Votants  Blancs  Nuls  Exprim\u00e9s  LEXG  LUG  LFG  \\\n",
        "pole                                                                            \n",
        "01001       593          312      281      17     2       262     0   37    4   \n",
        "01002       226           99      127       2     1       124     0    6    9   \n",
        "01004      8153         4825     3328      76    30      3222    30  433  197   \n",
        "01005      1158          669      489      20     2       467     0   51    9   \n",
        "01006       108           55       53       1     0        52     0   10    1   \n",
        "\n",
        "       LDVG  ...   411  412  421  422  423  511         512  521  522  523  \n",
        "pole         ...                                                            \n",
        "01001     8  ...     0    0    0    0    0    0    0.000000    0    0    0  \n",
        "01002     4  ...     0    0    0    0    0    0    0.000000    0    0    0  \n",
        "01004    98  ...     0    0    0    0    0    0    0.000000    0    0    0  \n",
        "01005    16  ...     0    0    0    0    0    0  184.330686    0    0    0  \n",
        "01006     2  ...     0    0    0    0    0    0    0.000000    0    0    0  \n",
        "\n",
        "[5 rows x 62 columns]"
       ]
      }
     ],
     "prompt_number": 6
    },
    {
     "cell_type": "heading",
     "level": 2,
     "metadata": {},
     "source": [
      "Calcul des proportions"
     ]
    },
    {
     "cell_type": "markdown",
     "metadata": {},
     "source": [
      "On va calculer la proportion pour les diff\u00e9rents type de terrains dans les colonnes pr\u00e9fix\u00e9es par p. De m\u00eame, pour le vote FN, on s'int\u00e9resse au % par rapport aux exprim\u00e9s."
     ]
    },
    {
     "cell_type": "code",
     "collapsed": false,
     "input": [
      "import statsmodels.api as sm\n",
      "clc = [u'111', u'112', u'121', u'122', u'123', u'124', u'131', u'132', u'133', u'141', \n",
      "    u'142', u'211', u'212', u'213', u'221', u'222', u'223', u'231', u'241', u'242', \n",
      "    u'243', u'244', u'311', u'312', u'313', u'321', u'322', u'323', u'324', u'331', \n",
      "    u'332', u'333', u'334', u'335', \n",
      "    u'411', u'412', u'421', u'422', u'423', u'511', u'512', u'521', u'522', u'523']\n",
      "\n",
      "pclc = ['p' + l for l in clc]\n",
      "w[pclc] = w[clc].div(w[clc].sum(axis=1), axis=0)*100\n",
      "w['pfn'] = w['LFN'] / w['Exprim\u00e9s'] * 100"
     ],
     "language": "python",
     "metadata": {},
     "outputs": [],
     "prompt_number": 7
    },
    {
     "cell_type": "heading",
     "level": 2,
     "metadata": {},
     "source": [
      "R\u00e9gression au niveau 2 de la nomenclature CLC"
     ]
    },
    {
     "cell_type": "markdown",
     "metadata": {},
     "source": [
      "Pour finir, on recalcule les niveau 1 et 2 de la nomenclature CLC sous forme de MultiIndex."
     ]
    },
    {
     "cell_type": "code",
     "collapsed": false,
     "input": [
      "clc2 = [ (x[:2], x[:3], x) for x in pclc]\n",
      "iclc2 = pd.MultiIndex.from_tuples(clc2)\n",
      "\n",
      "w1 = pd.DataFrame(w[pclc].values, columns=iclc2, index=w.index)\n",
      "X = w1.sum(level=1, axis=1)\n",
      "y = w.pfn\n",
      "\n",
      "# Fit regression model\n",
      "results = sm.OLS(y, X).fit()\n",
      "\n",
      "# Inspect the results\n",
      "print results.summary()\n"
     ],
     "language": "python",
     "metadata": {},
     "outputs": [
      {
       "output_type": "stream",
       "stream": "stdout",
       "text": [
        "                            OLS Regression Results                            \n",
        "==============================================================================\n",
        "Dep. Variable:                    pfn   R-squared:                       0.904\n",
        "Model:                            OLS   Adj. R-squared:                  0.904\n",
        "Method:                 Least Squares   F-statistic:                 2.292e+04\n",
        "Date:                Tue, 29 Jul 2014   Prob (F-statistic):               0.00\n",
        "Time:                        11:08:14   Log-Likelihood:            -1.3459e+05\n",
        "No. Observations:               36535   AIC:                         2.692e+05\n",
        "Df Residuals:                   36520   BIC:                         2.693e+05\n",
        "Df Model:                          15                                         \n",
        "==============================================================================\n",
        "                 coef    std err          t      P>|t|      [95.0% Conf. Int.]\n",
        "------------------------------------------------------------------------------\n",
        "p11            0.2379      0.006     41.114      0.000         0.227     0.249\n",
        "p12            0.3074      0.015     20.383      0.000         0.278     0.337\n",
        "p13            0.7680      0.041     18.955      0.000         0.689     0.847\n",
        "p14           -0.0283      0.032     -0.893      0.372        -0.090     0.034\n",
        "p21            0.3560      0.001    285.627      0.000         0.354     0.358\n",
        "p22            0.3510      0.005     74.882      0.000         0.342     0.360\n",
        "p23            0.2994      0.002    132.408      0.000         0.295     0.304\n",
        "p24            0.1683      0.003     56.846      0.000         0.163     0.174\n",
        "p31            0.2908      0.002    146.672      0.000         0.287     0.295\n",
        "p32            0.1811      0.005     34.272      0.000         0.171     0.191\n",
        "p33            0.1843      0.014     12.774      0.000         0.156     0.213\n",
        "p41            0.5511      0.039     13.987      0.000         0.474     0.628\n",
        "p42            0.3071      0.041      7.521      0.000         0.227     0.387\n",
        "p51            0.3707      0.021     17.311      0.000         0.329     0.413\n",
        "p52            0.4955      0.044     11.355      0.000         0.410     0.581\n",
        "==============================================================================\n",
        "Omnibus:                      784.554   Durbin-Watson:                   1.488\n",
        "Prob(Omnibus):                  0.000   Jarque-Bera (JB):              954.168\n",
        "Skew:                           0.299   Prob(JB):                    6.38e-208\n",
        "Kurtosis:                       3.520   Cond. No.                         45.9\n",
        "==============================================================================\n"
       ]
      },
      {
       "output_type": "stream",
       "stream": "stderr",
       "text": [
        "/home/philippe/anaconda/lib/python2.7/site-packages/pandas/core/index.py:462: UnicodeWarning: Unicode equal comparison failed to convert both arguments to Unicode - interpreting them as being unequal\n",
        "  return self._engine.is_unique\n"
       ]
      }
     ],
     "prompt_number": 8
    }
   ],
   "metadata": {}
  }
 ]
}